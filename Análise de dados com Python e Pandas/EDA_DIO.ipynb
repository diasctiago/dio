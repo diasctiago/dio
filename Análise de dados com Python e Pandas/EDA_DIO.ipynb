{
  "nbformat": 4,
  "nbformat_minor": 0,
  "metadata": {
    "colab": {
      "name": "EDA-DIO.ipynb",
      "provenance": []
    },
    "kernelspec": {
      "name": "python3",
      "display_name": "Python 3"
    },
    "language_info": {
      "name": "python"
    }
  },
  "cells": [
    {
      "cell_type": "markdown",
      "metadata": {
        "id": "apsVf992hHXJ"
      },
      "source": [
        "# Análise de dados com Python e Pandas - DIO"
      ]
    },
    {
      "cell_type": "markdown",
      "metadata": {
        "id": "ca9Tz46UhPq2"
      },
      "source": [
        "By: [Tiago Dias](https://www.linkedin.com/in/diasctiago/)"
      ]
    },
    {
      "cell_type": "code",
      "metadata": {
        "id": "JR8Qh6HPdDdq"
      },
      "source": [
        "# Importando bibliotecas\n",
        "import pandas as pd\n",
        "import matplotlib.pyplot as plt\n",
        "import seaborn as sns"
      ],
      "execution_count": 2,
      "outputs": []
    },
    {
      "cell_type": "code",
      "metadata": {
        "id": "kNnjNMeShw2j"
      },
      "source": [
        "# Importando dados com pandas direto do GitHub\n",
        "df = pd.read_excel('https://github.com/diasctiago/dio/blob/main/An%C3%A1lise%20de%20dados%20com%20Python%20e%20Pandas/AdventureWorks.xlsx?raw=true')"
      ],
      "execution_count": 3,
      "outputs": []
    },
    {
      "cell_type": "code",
      "metadata": {
        "colab": {
          "base_uri": "https://localhost:8080/",
          "height": 504
        },
        "id": "QRAcyv8mjHG7",
        "outputId": "af2b57ab-8513-44c5-ea2a-cf7ea3c85244"
      },
      "source": [
        "# Exibindo os primeiros registros\n",
        "df.head()"
      ],
      "execution_count": 5,
      "outputs": [
        {
          "output_type": "execute_result",
          "data": {
            "text/html": [
              "<div>\n",
              "<style scoped>\n",
              "    .dataframe tbody tr th:only-of-type {\n",
              "        vertical-align: middle;\n",
              "    }\n",
              "\n",
              "    .dataframe tbody tr th {\n",
              "        vertical-align: top;\n",
              "    }\n",
              "\n",
              "    .dataframe thead th {\n",
              "        text-align: right;\n",
              "    }\n",
              "</style>\n",
              "<table border=\"1\" class=\"dataframe\">\n",
              "  <thead>\n",
              "    <tr style=\"text-align: right;\">\n",
              "      <th></th>\n",
              "      <th>Data Venda</th>\n",
              "      <th>Data Envio</th>\n",
              "      <th>ID Loja</th>\n",
              "      <th>ID Produto</th>\n",
              "      <th>ID Cliente</th>\n",
              "      <th>No. Venda</th>\n",
              "      <th>Custo Unitário</th>\n",
              "      <th>Preço Unitário</th>\n",
              "      <th>Quantidade</th>\n",
              "      <th>Valor Desconto</th>\n",
              "      <th>Valor Venda</th>\n",
              "      <th>Produto</th>\n",
              "      <th>Fabricante</th>\n",
              "      <th>Marca</th>\n",
              "      <th>Classe</th>\n",
              "      <th>Cor</th>\n",
              "    </tr>\n",
              "  </thead>\n",
              "  <tbody>\n",
              "    <tr>\n",
              "      <th>0</th>\n",
              "      <td>2008-05-09</td>\n",
              "      <td>2008-05-29</td>\n",
              "      <td>199</td>\n",
              "      <td>384</td>\n",
              "      <td>18839</td>\n",
              "      <td>200805093CS607</td>\n",
              "      <td>348.58</td>\n",
              "      <td>758.0</td>\n",
              "      <td>6</td>\n",
              "      <td>0.0</td>\n",
              "      <td>4548.0</td>\n",
              "      <td>Adventure Works Laptop15.4W M1548 Red</td>\n",
              "      <td>Adventure Works</td>\n",
              "      <td>Adventure Works</td>\n",
              "      <td>Regular</td>\n",
              "      <td>Red</td>\n",
              "    </tr>\n",
              "    <tr>\n",
              "      <th>1</th>\n",
              "      <td>2008-05-12</td>\n",
              "      <td>2008-05-17</td>\n",
              "      <td>306</td>\n",
              "      <td>384</td>\n",
              "      <td>19051</td>\n",
              "      <td>200805123CS567</td>\n",
              "      <td>348.58</td>\n",
              "      <td>758.0</td>\n",
              "      <td>6</td>\n",
              "      <td>0.0</td>\n",
              "      <td>4548.0</td>\n",
              "      <td>Adventure Works Laptop15.4W M1548 Red</td>\n",
              "      <td>Adventure Works</td>\n",
              "      <td>Adventure Works</td>\n",
              "      <td>Regular</td>\n",
              "      <td>Red</td>\n",
              "    </tr>\n",
              "    <tr>\n",
              "      <th>2</th>\n",
              "      <td>2008-05-14</td>\n",
              "      <td>2008-05-20</td>\n",
              "      <td>306</td>\n",
              "      <td>384</td>\n",
              "      <td>19052</td>\n",
              "      <td>200805143CS576</td>\n",
              "      <td>348.58</td>\n",
              "      <td>758.0</td>\n",
              "      <td>6</td>\n",
              "      <td>0.0</td>\n",
              "      <td>4548.0</td>\n",
              "      <td>Adventure Works Laptop15.4W M1548 Red</td>\n",
              "      <td>Adventure Works</td>\n",
              "      <td>Adventure Works</td>\n",
              "      <td>Regular</td>\n",
              "      <td>Red</td>\n",
              "    </tr>\n",
              "    <tr>\n",
              "      <th>3</th>\n",
              "      <td>2008-05-21</td>\n",
              "      <td>2008-05-27</td>\n",
              "      <td>306</td>\n",
              "      <td>384</td>\n",
              "      <td>19052</td>\n",
              "      <td>200805213CS576</td>\n",
              "      <td>348.58</td>\n",
              "      <td>758.0</td>\n",
              "      <td>6</td>\n",
              "      <td>0.0</td>\n",
              "      <td>4548.0</td>\n",
              "      <td>Adventure Works Laptop15.4W M1548 Red</td>\n",
              "      <td>Adventure Works</td>\n",
              "      <td>Adventure Works</td>\n",
              "      <td>Regular</td>\n",
              "      <td>Red</td>\n",
              "    </tr>\n",
              "    <tr>\n",
              "      <th>4</th>\n",
              "      <td>2008-06-20</td>\n",
              "      <td>2008-06-27</td>\n",
              "      <td>306</td>\n",
              "      <td>384</td>\n",
              "      <td>19053</td>\n",
              "      <td>200806203CS586</td>\n",
              "      <td>348.58</td>\n",
              "      <td>758.0</td>\n",
              "      <td>6</td>\n",
              "      <td>0.0</td>\n",
              "      <td>4548.0</td>\n",
              "      <td>Adventure Works Laptop15.4W M1548 Red</td>\n",
              "      <td>Adventure Works</td>\n",
              "      <td>Adventure Works</td>\n",
              "      <td>Regular</td>\n",
              "      <td>Red</td>\n",
              "    </tr>\n",
              "  </tbody>\n",
              "</table>\n",
              "</div>"
            ],
            "text/plain": [
              "  Data Venda Data Envio  ID Loja  ...            Marca   Classe  Cor\n",
              "0 2008-05-09 2008-05-29      199  ...  Adventure Works  Regular  Red\n",
              "1 2008-05-12 2008-05-17      306  ...  Adventure Works  Regular  Red\n",
              "2 2008-05-14 2008-05-20      306  ...  Adventure Works  Regular  Red\n",
              "3 2008-05-21 2008-05-27      306  ...  Adventure Works  Regular  Red\n",
              "4 2008-06-20 2008-06-27      306  ...  Adventure Works  Regular  Red\n",
              "\n",
              "[5 rows x 16 columns]"
            ]
          },
          "metadata": {
            "tags": []
          },
          "execution_count": 5
        }
      ]
    },
    {
      "cell_type": "markdown",
      "metadata": {
        "id": "DptnIs8ml8TC"
      },
      "source": [
        "## Análise de Estrutura"
      ]
    },
    {
      "cell_type": "code",
      "metadata": {
        "colab": {
          "base_uri": "https://localhost:8080/"
        },
        "id": "PJRUMfLhjYL7",
        "outputId": "f8e45e1a-20dc-46ec-ba7c-e10761c6d863"
      },
      "source": [
        "df.columns"
      ],
      "execution_count": 6,
      "outputs": [
        {
          "output_type": "execute_result",
          "data": {
            "text/plain": [
              "Index(['Data Venda', 'Data Envio', 'ID Loja', 'ID Produto', 'ID Cliente',\n",
              "       'No. Venda', 'Custo Unitário', 'Preço Unitário', 'Quantidade',\n",
              "       'Valor Desconto', 'Valor Venda', 'Produto', 'Fabricante', 'Marca',\n",
              "       'Classe', 'Cor'],\n",
              "      dtype='object')"
            ]
          },
          "metadata": {
            "tags": []
          },
          "execution_count": 6
        }
      ]
    },
    {
      "cell_type": "code",
      "metadata": {
        "colab": {
          "base_uri": "https://localhost:8080/"
        },
        "id": "do2k6KHDjfhh",
        "outputId": "2c67f7bf-fabe-47a8-a8cf-76e75eb8b82e"
      },
      "source": [
        "df.info()"
      ],
      "execution_count": 8,
      "outputs": [
        {
          "output_type": "stream",
          "text": [
            "<class 'pandas.core.frame.DataFrame'>\n",
            "RangeIndex: 904 entries, 0 to 903\n",
            "Data columns (total 16 columns):\n",
            " #   Column          Non-Null Count  Dtype         \n",
            "---  ------          --------------  -----         \n",
            " 0   Data Venda      904 non-null    datetime64[ns]\n",
            " 1   Data Envio      904 non-null    datetime64[ns]\n",
            " 2   ID Loja         904 non-null    int64         \n",
            " 3   ID Produto      904 non-null    int64         \n",
            " 4   ID Cliente      904 non-null    int64         \n",
            " 5   No. Venda       904 non-null    object        \n",
            " 6   Custo Unitário  904 non-null    float64       \n",
            " 7   Preço Unitário  904 non-null    float64       \n",
            " 8   Quantidade      904 non-null    int64         \n",
            " 9   Valor Desconto  904 non-null    float64       \n",
            " 10  Valor Venda     904 non-null    float64       \n",
            " 11  Produto         904 non-null    object        \n",
            " 12  Fabricante      904 non-null    object        \n",
            " 13  Marca           904 non-null    object        \n",
            " 14  Classe          904 non-null    object        \n",
            " 15  Cor             904 non-null    object        \n",
            "dtypes: datetime64[ns](2), float64(4), int64(4), object(6)\n",
            "memory usage: 113.1+ KB\n"
          ],
          "name": "stdout"
        }
      ]
    },
    {
      "cell_type": "code",
      "metadata": {
        "colab": {
          "base_uri": "https://localhost:8080/"
        },
        "id": "28LzDradjfeB",
        "outputId": "65d584c0-739f-4259-b081-b32c61122a94"
      },
      "source": [
        "df.shape"
      ],
      "execution_count": 10,
      "outputs": [
        {
          "output_type": "execute_result",
          "data": {
            "text/plain": [
              "(904, 16)"
            ]
          },
          "metadata": {
            "tags": []
          },
          "execution_count": 10
        }
      ]
    },
    {
      "cell_type": "code",
      "metadata": {
        "colab": {
          "base_uri": "https://localhost:8080/"
        },
        "id": "-f2_c_MDjo3r",
        "outputId": "d924d03e-430d-432a-84eb-80ca85963d83"
      },
      "source": [
        "print('O dataset possui',df.shape[0], 'registros e', df.shape[1], 'atributos.')"
      ],
      "execution_count": 14,
      "outputs": [
        {
          "output_type": "stream",
          "text": [
            "O dataset possui 904 registros e 16 atributos.\n"
          ],
          "name": "stdout"
        }
      ]
    },
    {
      "cell_type": "code",
      "metadata": {
        "colab": {
          "base_uri": "https://localhost:8080/",
          "height": 300
        },
        "id": "RrTRqe3Ljfag",
        "outputId": "32a7993e-3bf5-4213-bd68-bea15dc28bb2"
      },
      "source": [
        "df.describe()"
      ],
      "execution_count": 16,
      "outputs": [
        {
          "output_type": "execute_result",
          "data": {
            "text/html": [
              "<div>\n",
              "<style scoped>\n",
              "    .dataframe tbody tr th:only-of-type {\n",
              "        vertical-align: middle;\n",
              "    }\n",
              "\n",
              "    .dataframe tbody tr th {\n",
              "        vertical-align: top;\n",
              "    }\n",
              "\n",
              "    .dataframe thead th {\n",
              "        text-align: right;\n",
              "    }\n",
              "</style>\n",
              "<table border=\"1\" class=\"dataframe\">\n",
              "  <thead>\n",
              "    <tr style=\"text-align: right;\">\n",
              "      <th></th>\n",
              "      <th>ID Loja</th>\n",
              "      <th>ID Produto</th>\n",
              "      <th>ID Cliente</th>\n",
              "      <th>Custo Unitário</th>\n",
              "      <th>Preço Unitário</th>\n",
              "      <th>Quantidade</th>\n",
              "      <th>Valor Desconto</th>\n",
              "      <th>Valor Venda</th>\n",
              "    </tr>\n",
              "  </thead>\n",
              "  <tbody>\n",
              "    <tr>\n",
              "      <th>count</th>\n",
              "      <td>904.000000</td>\n",
              "      <td>904.000000</td>\n",
              "      <td>904.000000</td>\n",
              "      <td>904.000000</td>\n",
              "      <td>904.000000</td>\n",
              "      <td>904.000000</td>\n",
              "      <td>904.000000</td>\n",
              "      <td>904.000000</td>\n",
              "    </tr>\n",
              "    <tr>\n",
              "      <th>mean</th>\n",
              "      <td>270.015487</td>\n",
              "      <td>1225.238938</td>\n",
              "      <td>19029.092920</td>\n",
              "      <td>272.006150</td>\n",
              "      <td>742.527965</td>\n",
              "      <td>62.950221</td>\n",
              "      <td>689.123294</td>\n",
              "      <td>6620.139538</td>\n",
              "    </tr>\n",
              "    <tr>\n",
              "      <th>std</th>\n",
              "      <td>50.955280</td>\n",
              "      <td>706.698742</td>\n",
              "      <td>96.427655</td>\n",
              "      <td>129.765051</td>\n",
              "      <td>368.589889</td>\n",
              "      <td>148.945964</td>\n",
              "      <td>822.363117</td>\n",
              "      <td>4319.407257</td>\n",
              "    </tr>\n",
              "    <tr>\n",
              "      <th>min</th>\n",
              "      <td>199.000000</td>\n",
              "      <td>366.000000</td>\n",
              "      <td>18815.000000</td>\n",
              "      <td>5.090000</td>\n",
              "      <td>9.990000</td>\n",
              "      <td>2.000000</td>\n",
              "      <td>0.000000</td>\n",
              "      <td>159.840000</td>\n",
              "    </tr>\n",
              "    <tr>\n",
              "      <th>25%</th>\n",
              "      <td>199.000000</td>\n",
              "      <td>384.000000</td>\n",
              "      <td>18964.750000</td>\n",
              "      <td>324.690000</td>\n",
              "      <td>758.000000</td>\n",
              "      <td>6.000000</td>\n",
              "      <td>0.000000</td>\n",
              "      <td>3920.000000</td>\n",
              "    </tr>\n",
              "    <tr>\n",
              "      <th>50%</th>\n",
              "      <td>306.000000</td>\n",
              "      <td>1202.000000</td>\n",
              "      <td>19060.000000</td>\n",
              "      <td>330.660000</td>\n",
              "      <td>980.000000</td>\n",
              "      <td>9.000000</td>\n",
              "      <td>461.166000</td>\n",
              "      <td>5798.700000</td>\n",
              "    </tr>\n",
              "    <tr>\n",
              "      <th>75%</th>\n",
              "      <td>307.000000</td>\n",
              "      <td>1226.000000</td>\n",
              "      <td>19107.000000</td>\n",
              "      <td>348.580000</td>\n",
              "      <td>998.000000</td>\n",
              "      <td>17.000000</td>\n",
              "      <td>1005.075000</td>\n",
              "      <td>7986.000000</td>\n",
              "    </tr>\n",
              "    <tr>\n",
              "      <th>max</th>\n",
              "      <td>307.000000</td>\n",
              "      <td>2497.000000</td>\n",
              "      <td>19145.000000</td>\n",
              "      <td>348.580000</td>\n",
              "      <td>999.000000</td>\n",
              "      <td>1560.000000</td>\n",
              "      <td>6272.000000</td>\n",
              "      <td>29400.000000</td>\n",
              "    </tr>\n",
              "  </tbody>\n",
              "</table>\n",
              "</div>"
            ],
            "text/plain": [
              "          ID Loja   ID Produto  ...  Valor Desconto   Valor Venda\n",
              "count  904.000000   904.000000  ...      904.000000    904.000000\n",
              "mean   270.015487  1225.238938  ...      689.123294   6620.139538\n",
              "std     50.955280   706.698742  ...      822.363117   4319.407257\n",
              "min    199.000000   366.000000  ...        0.000000    159.840000\n",
              "25%    199.000000   384.000000  ...        0.000000   3920.000000\n",
              "50%    306.000000  1202.000000  ...      461.166000   5798.700000\n",
              "75%    307.000000  1226.000000  ...     1005.075000   7986.000000\n",
              "max    307.000000  2497.000000  ...     6272.000000  29400.000000\n",
              "\n",
              "[8 rows x 8 columns]"
            ]
          },
          "metadata": {
            "tags": []
          },
          "execution_count": 16
        }
      ]
    },
    {
      "cell_type": "code",
      "metadata": {
        "colab": {
          "base_uri": "https://localhost:8080/"
        },
        "id": "1liRZew7lrqu",
        "outputId": "5acf6ef6-206f-4ae3-86b1-6571a86032bc"
      },
      "source": [
        "df.isna().sum()"
      ],
      "execution_count": 28,
      "outputs": [
        {
          "output_type": "execute_result",
          "data": {
            "text/plain": [
              "Data Venda        0\n",
              "Data Envio        0\n",
              "ID Loja           0\n",
              "ID Produto        0\n",
              "ID Cliente        0\n",
              "No. Venda         0\n",
              "Custo Unitário    0\n",
              "Preço Unitário    0\n",
              "Quantidade        0\n",
              "Valor Desconto    0\n",
              "Valor Venda       0\n",
              "Produto           0\n",
              "Fabricante        0\n",
              "Marca             0\n",
              "Classe            0\n",
              "Cor               0\n",
              "dtype: int64"
            ]
          },
          "metadata": {
            "tags": []
          },
          "execution_count": 28
        }
      ]
    },
    {
      "cell_type": "markdown",
      "metadata": {
        "id": "SbzIN7wtmCFp"
      },
      "source": [
        "## Análise de Negócio"
      ]
    },
    {
      "cell_type": "markdown",
      "metadata": {
        "id": "Qf9Ze04VlEA6"
      },
      "source": [
        "### Quais são os produto?"
      ]
    },
    {
      "cell_type": "code",
      "metadata": {
        "colab": {
          "base_uri": "https://localhost:8080/"
        },
        "id": "qDTptwUvjfWb",
        "outputId": "da0f7eca-2c20-4c10-83dc-d16c1f4c6627"
      },
      "source": [
        "df['Produto'].value_counts()"
      ],
      "execution_count": 24,
      "outputs": [
        {
          "output_type": "execute_result",
          "data": {
            "text/plain": [
              "Adventure Works Laptop15.4W M1548 Black            123\n",
              "Fabrikam Trendsetter 2/3'' 17mm X100 Grey          118\n",
              "Adventure Works Laptop15.4W M1548 Red              115\n",
              "Fabrikam Trendsetter 2/3'' 17mm X100 Black         103\n",
              "Fabrikam Trendsetter 1/3'' 8.5mm X200 Grey          94\n",
              "Fabrikam Trendsetter 1/3'' 8.5mm X200 White         90\n",
              "Fabrikam Trendsetter 1/3'' 8.5mm X200 Black         89\n",
              "Headphone Adapter for Contoso Phone E130 Silver     87\n",
              "Headphone Adapter for Contoso Phone E130 White      85\n",
              "Name: Produto, dtype: int64"
            ]
          },
          "metadata": {
            "tags": []
          },
          "execution_count": 24
        }
      ]
    },
    {
      "cell_type": "markdown",
      "metadata": {
        "id": "37YsfXWvlKqm"
      },
      "source": [
        "### Quais são as loja?"
      ]
    },
    {
      "cell_type": "code",
      "metadata": {
        "colab": {
          "base_uri": "https://localhost:8080/"
        },
        "id": "673GihpejfSr",
        "outputId": "7f31917d-a699-43d8-bf69-0096bfc2f134"
      },
      "source": [
        "df['ID Loja'].unique()"
      ],
      "execution_count": 23,
      "outputs": [
        {
          "output_type": "execute_result",
          "data": {
            "text/plain": [
              "array([199, 306, 307])"
            ]
          },
          "metadata": {
            "tags": []
          },
          "execution_count": 23
        }
      ]
    },
    {
      "cell_type": "markdown",
      "metadata": {
        "id": "PuIX0OyclNp_"
      },
      "source": [
        "### Quantas lojas?"
      ]
    },
    {
      "cell_type": "code",
      "metadata": {
        "colab": {
          "base_uri": "https://localhost:8080/"
        },
        "id": "NtUkt-aMjfPr",
        "outputId": "5a2fda85-8d4e-4989-915c-90b8c20145e1"
      },
      "source": [
        "len(df['ID Loja'].unique())"
      ],
      "execution_count": 25,
      "outputs": [
        {
          "output_type": "execute_result",
          "data": {
            "text/plain": [
              "3"
            ]
          },
          "metadata": {
            "tags": []
          },
          "execution_count": 25
        }
      ]
    },
    {
      "cell_type": "markdown",
      "metadata": {
        "id": "38lnHSY1leTY"
      },
      "source": [
        "### Qual a primeira e última data de venda?"
      ]
    },
    {
      "cell_type": "code",
      "metadata": {
        "colab": {
          "base_uri": "https://localhost:8080/"
        },
        "id": "vUc0Dvb9jfMb",
        "outputId": "684b69b5-fcd8-4d3c-f92b-e65e36225fac"
      },
      "source": [
        "df['Data Venda'].min()"
      ],
      "execution_count": 27,
      "outputs": [
        {
          "output_type": "execute_result",
          "data": {
            "text/plain": [
              "Timestamp('2009-12-31 00:00:00')"
            ]
          },
          "metadata": {
            "tags": []
          },
          "execution_count": 27
        }
      ]
    },
    {
      "cell_type": "code",
      "metadata": {
        "id": "9LfvhKY5jfJZ"
      },
      "source": [
        "df['Data Venda'].max()"
      ],
      "execution_count": null,
      "outputs": []
    },
    {
      "cell_type": "markdown",
      "metadata": {
        "id": "ioi5KEjsl0tD"
      },
      "source": [
        "## Análise Gráfica"
      ]
    },
    {
      "cell_type": "code",
      "metadata": {
        "colab": {
          "base_uri": "https://localhost:8080/",
          "height": 279
        },
        "id": "MpJpTCsVjfGb",
        "outputId": "594c4d94-7578-4b3f-8712-e046a1866442"
      },
      "source": [
        "sns.boxplot(x = df['Valor Venda'])\n",
        "plt.show()"
      ],
      "execution_count": 34,
      "outputs": [
        {
          "output_type": "display_data",
          "data": {
            "image/png": "[encoded data removed]",
            "text/plain": [
              "<Figure size 432x288 with 1 Axes>"
            ]
          },
          "metadata": {
            "tags": [],
            "needs_background": "light"
          }
        }
      ]
    },
    {
      "cell_type": "code",
      "metadata": {
        "colab": {
          "base_uri": "https://localhost:8080/",
          "height": 265
        },
        "id": "FPSKLjHYjfDN",
        "outputId": "2d4591f6-892e-4b89-be03-10bd80af4c85"
      },
      "source": [
        "df['Dias de Envio'] = df['Data Envio'] - df['Data Venda']\n",
        "x = df['Dias de Envio'].value_counts().values\n",
        "y = df['Dias de Envio'].value_counts().index\n",
        "sns.barplot( x=x, y=y ) \n",
        "plt.show()"
      ],
      "execution_count": 58,
      "outputs": [
        {
          "output_type": "display_data",
          "data": {
            "image/png": "[encoded data removed]",
            "text/plain": [
              "<Figure size 432x288 with 1 Axes>"
            ]
          },
          "metadata": {
            "tags": [],
            "needs_background": "light"
          }
        }
      ]
    },
    {
      "cell_type": "code",
      "metadata": {
        "colab": {
          "base_uri": "https://localhost:8080/",
          "height": 335
        },
        "id": "A1wpfGSFjfAL",
        "outputId": "035e3abf-8af3-4aea-b084-01f533476945"
      },
      "source": [
        "sns.heatmap(df.corr(), annot=True, cmap=\"PiYG\")\n",
        "plt.show()"
      ],
      "execution_count": 69,
      "outputs": [
        {
          "output_type": "display_data",
          "data": {
            "image/png": "[encoded data removed]",
            "text/plain": [
              "<Figure size 432x288 with 2 Axes>"
            ]
          },
          "metadata": {
            "tags": [],
            "needs_background": "light"
          }
        }
      ]
    },
    {
      "cell_type": "code",
      "metadata": {
        "id": "kbyijnwFje2i"
      },
      "source": [
        ""
      ],
      "execution_count": 69,
      "outputs": []
    }
  ]
}